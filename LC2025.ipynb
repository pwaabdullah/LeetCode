{
 "cells": [
  {
   "cell_type": "code",
   "execution_count": 16,
   "id": "28b89916",
   "metadata": {},
   "outputs": [
    {
     "name": "stdout",
     "output_type": "stream",
     "text": [
      "8\n",
      "9\n",
      "0\n",
      "1\n"
     ]
    }
   ],
   "source": [
    "\"\"\"\n",
    "2. Add two numbers (LinkedList)\n",
    "\n",
    "\n",
    "2,4,3\n",
    "5,6,4\n",
    "-----\n",
    "7 0 8\n",
    "7 0 1 1\n",
    "0 2 2\n",
    "\n",
    "sum = 10\n",
    "sum = 0 10//10\n",
    "carry = \n",
    "\"\"\"\n",
    "\n",
    "class ListNode:\n",
    "    def __init__(self, val):\n",
    "        self.val = val\n",
    "        self.next = None\n",
    "\n",
    "\n",
    "def addTwoNums(h1, h2):\n",
    "    carry, sum = 0, 0\n",
    "    dummy = newHead = ListNode(None)\n",
    "    while h1 or h2 or carry:\n",
    "        sum = carry\n",
    "        sum += h1.val if h1 else 0\n",
    "        sum += h2.val if h2 else 0\n",
    "        \n",
    "        newHead.next = ListNode(sum%10)\n",
    "        carry = sum//10\n",
    "        newHead = newHead.next\n",
    "        h1 = h1.next if h1 else None\n",
    "        h2 = h2.next if h2 else None\n",
    "        \n",
    "    return dummy.next\n",
    "    \n",
    "\n",
    "h1 = ListNode(9)\n",
    "h1.next = ListNode(9)\n",
    "h1.next.next = ListNode(9)\n",
    "\n",
    "h2 = ListNode(9)\n",
    "h2.next = ListNode(9)\n",
    "# h2.next.next = ListNode(4)\n",
    "\n",
    "head = addTwoNums(h1, h2)\n",
    "while head:\n",
    "    print(head.val)\n",
    "    head = head.next\n",
    "        "
   ]
  },
  {
   "cell_type": "code",
   "execution_count": 22,
   "id": "b8ac4ebf",
   "metadata": {},
   "outputs": [
    {
     "name": "stdout",
     "output_type": "stream",
     "text": [
      "3\n"
     ]
    }
   ],
   "source": [
    "\"\"\"\n",
    "8:05-8:35\n",
    "3. Longest Substring Without Repeating Characters\n",
    "Given a string s, find the length of the longest \n",
    "substring without repeating characters.\n",
    "\n",
    "Example 1:\n",
    "\n",
    "\"abcabcbb\" \n",
    "        ^\n",
    "        ^\n",
    " \n",
    "using sliding window\n",
    "window expand: until I see a letter that is already exists in the window\n",
    "window shrink: once duplicate found\n",
    "\"\"\"\n",
    "\n",
    "def longestSubString(s):\n",
    "    winStart = 0\n",
    "    maxLen = 0\n",
    "    mymap = {}\n",
    "    for winEnd in range(len(s)):\n",
    "        if s[winEnd] not in mymap:\n",
    "            mymap[s[winEnd]] = 0\n",
    "        mymap[s[winEnd]] += 1\n",
    "            \n",
    "        while mymap[s[winEnd]]>1:\n",
    "            mymap[s[winStart]] -= 1\n",
    "            winStart += 1\n",
    "            \n",
    "        maxLen = max(maxLen, winEnd-winStart+1)\n",
    "    \n",
    "    return maxLen\n",
    "\n",
    "print(longestSubString(\"pwwkew\"))        \n",
    "            \n",
    "        "
   ]
  },
  {
   "cell_type": "code",
   "execution_count": null,
   "id": "650c5802",
   "metadata": {},
   "outputs": [],
   "source": [
    "\"\"\"\n",
    "4. Median of Two Sorted Arrays\n",
    "\n",
    "\"\"\""
   ]
  },
  {
   "cell_type": "code",
   "execution_count": 24,
   "id": "acae4278",
   "metadata": {},
   "outputs": [
    {
     "name": "stdout",
     "output_type": "stream",
     "text": [
      "False\n"
     ]
    }
   ],
   "source": [
    "\"\"\"\n",
    "8:35 - 9:07 no solution\n",
    "5. Longest Palindromic Substring\n",
    "\n",
    "def isPal(s):\n",
    "    return s == s[::-1]\n",
    "\n",
    "\"babad\"\n",
    "  ^\n",
    " \n",
    "maxLen = 0\n",
    "\"\"\"\n",
    "\n",
    "def isPal(s):\n",
    "    return s == s[::-1]\n",
    "\n",
    "def longestPalString(s):\n",
    "    def dp(s):\n",
    "        if not s:\n",
    "            return \n",
    "        \n",
    "        \n",
    "\n",
    "print(isPal(\"babb\"))"
   ]
  },
  {
   "cell_type": "code",
   "execution_count": 92,
   "id": "4d8e6e6d",
   "metadata": {},
   "outputs": [
    {
     "name": "stdout",
     "output_type": "stream",
     "text": [
      "['p', '', 'a', '', 'h', '', 'n', '', '', '', '', '', '', '']\n",
      "['a', 'p', 'l', 's', 'i', 'i', 'g', '', '', '', '', '', '', '']\n",
      "['y', '', 'i', '', 'r', '', '', '', '', '', '', '', '', '']\n",
      "pahnaplsiigyir\n"
     ]
    }
   ],
   "source": [
    "\"\"\"\n",
    "1.5hr\n",
    "6. Zigzag Conversion\n",
    "[\n",
    "['p', '', 'a', 'l', '', 'i', 'r', '', '', '', '', '', '', ''], \n",
    "['a', 'p', '', 'i', 'h', '', 'i', 'g', '', '', '', '', '', ''], \n",
    "['y', '', '', 's', '', '', 'n', '', '', '', '', '', '', '']]\n",
    "\n",
    "\"\"\"\n",
    "\n",
    "def zigzagConversion(s, numRows):\n",
    "    if numRows == 1 or numRows>len(s):\n",
    "        return s\n",
    "    numCols = len(s)\n",
    "    mymap = [[\"\"]*numCols for _ in range(numRows)]\n",
    "    col, row = 0, 0\n",
    "    i = 0\n",
    "    while i<len(s):\n",
    "        if col>0: \n",
    "            col-=1\n",
    "            i-=1\n",
    "        while i<len(s) and row<numRows: #0,1,2,3\n",
    "            mymap[row][col] = s[i]\n",
    "            row += 1\n",
    "            i += 1\n",
    "        col += 1\n",
    "        row -= 1\n",
    "        \n",
    "        while i<len(s) and row>0: \n",
    "            row -= 1\n",
    "            mymap[row][col] = s[i]\n",
    "            col += 1\n",
    "            i += 1\n",
    "    \n",
    "    result = []\n",
    "    for row in range(numRows):\n",
    "        print(mymap[row])\n",
    "        result.append(\"\".join(mymap[row]))\n",
    "    return \"\".join(result)\n",
    "\n",
    "\n",
    "print(zigzagConversion(\"paypalishiring\", 3))\n"
   ]
  },
  {
   "cell_type": "code",
   "execution_count": 107,
   "id": "0a892fa5",
   "metadata": {},
   "outputs": [
    {
     "name": "stdout",
     "output_type": "stream",
     "text": [
      "49\n"
     ]
    }
   ],
   "source": [
    "\"\"\"\n",
    "49\n",
    "11. Container With Most Water\n",
    "\n",
    " 0 1 2 3 4 5 6 7 8 \n",
    "[1,8,6,2,5,4,8,3,7]\n",
    "   ^\n",
    "                 ^\n",
    "                 8-1 = 7*7\n",
    "\"\"\"\n",
    "def containerWithMostWater(height):\n",
    "    left, right = 0,len(height)-1\n",
    "    max_water = 0\n",
    "    \n",
    "    while left<right:\n",
    "        max_water = max(max_water, min(height[left], height[right])*(right-left))\n",
    "        if height[left] < height[right]:\n",
    "            left += 1\n",
    "        else:\n",
    "            right -= 1\n",
    "        \n",
    "    return max_water\n",
    "\n",
    "print(containerWithMostWater([1,8,6,2,5,4,8,3,7]))\n",
    "        "
   ]
  },
  {
   "cell_type": "code",
   "execution_count": 114,
   "id": "c265c7b3",
   "metadata": {},
   "outputs": [
    {
     "name": "stdout",
     "output_type": "stream",
     "text": [
      "\n"
     ]
    }
   ],
   "source": [
    "\"\"\"\n",
    "10:02 - 10:21\n",
    "14. Longest Common Prefix\n",
    "\n",
    "\"flower\",\n",
    " ^\n",
    "\"flow\",\n",
    "\"flight\"\n",
    "\n",
    "for i ...\n",
    "    for j in range...\n",
    "\n",
    "\"\"\"\n",
    "def longestCommonPrefix(strs):\n",
    "    ans = \"\"\n",
    "    min_len = min(len(s) for s in strs)\n",
    "    for i in range(min_len):\n",
    "        c = strs[0][i]\n",
    "        for j in range(1, len(strs)):\n",
    "            if c!=strs[j][i]:\n",
    "                return ans\n",
    "        ans += c\n",
    "    return ans\n",
    "            \n",
    "print(longestCommonPrefix([\"dog\",\"racecar\",\"car\"]))              \n",
    "        "
   ]
  },
  {
   "cell_type": "code",
   "execution_count": 134,
   "id": "e4395e59",
   "metadata": {},
   "outputs": [
    {
     "name": "stdout",
     "output_type": "stream",
     "text": [
      "[[0, 0, 0]]\n"
     ]
    }
   ],
   "source": [
    "\"\"\"\n",
    "10:31 - 10:10\n",
    "15. 3Sum\n",
    "\n",
    "a+b+c = 0\n",
    "-(a+b) =\n",
    "\n",
    "{\n",
    "-1:4\n",
    "0:1\n",
    "1:2\n",
    "2:3\n",
    "-4:5\n",
    "}\n",
    "\n",
    "[-1,0,1,2,-1,-4]\n",
    "  ^\n",
    "    ^\n",
    "-(-1+0) = 1 \n",
    "\"\"\"\n",
    "from collections import defaultdict\n",
    "def threeSum(nums):\n",
    "    nums.sort()\n",
    "    ans = []\n",
    "    n = len(nums)\n",
    "    mymap = defaultdict()\n",
    "    for i, num in enumerate(nums):\n",
    "        mymap[num] = i\n",
    "   \n",
    "    for i in range(n):\n",
    "        if i>0 and nums[i]==nums[i-1]:\n",
    "            continue\n",
    "        for j in range(i+1, n):\n",
    "            if j>i+1 and nums[j] == nums[j-1]:\n",
    "                continue\n",
    "            a, b = nums[i], nums[j]\n",
    "            c = -(a+b)\n",
    "            if c in mymap and mymap[c]>j:\n",
    "                ans.append([a,b,c])\n",
    "    return ans\n",
    "\n",
    "print(threeSum([0,0,0]))\n",
    "                "
   ]
  },
  {
   "cell_type": "code",
   "execution_count": 141,
   "id": "cabf7b42",
   "metadata": {},
   "outputs": [
    {
     "name": "stdout",
     "output_type": "stream",
     "text": [
      "3\n"
     ]
    }
   ],
   "source": [
    "\"\"\"\n",
    "10:17 - 11:47\n",
    "16. 3Sum Closest\n",
    "\n",
    "[-1,2,1,-4], target = 1\n",
    "\n",
    "[-4,-1,1,2], \n",
    "  ^\n",
    "     ^\n",
    "a+b+c = 0\n",
    "a = -(b+c)\n",
    "\n",
    "\"\"\"\n",
    "\n",
    "def threeSumClosest(nums, target):\n",
    "    ans = []\n",
    "    nums.sort()\n",
    "    n = len(nums)\n",
    "    min_diff = float('inf')\n",
    "    \n",
    "    for i in range(n-2):\n",
    "        left, right = i+1, n-1\n",
    "        a = nums[i]\n",
    "\n",
    "        while left<right:\n",
    "            b = nums[left]\n",
    "            c = nums[right]\n",
    "            \n",
    "            cur_sum = a+b+c\n",
    "            cur_diff = abs(target-cur_sum)\n",
    "            \n",
    "            if  cur_diff < min_diff:\n",
    "                min_diff = cur_diff\n",
    "                ans = cur_sum\n",
    "            \n",
    "            if cur_sum == target:\n",
    "                return cur_sum\n",
    "            elif cur_sum > target:\n",
    "                right -= 1\n",
    "            else:\n",
    "                left += 1\n",
    "    return ans\n",
    "    \n",
    "print(threeSumClosest([0,1,2], 0))            \n",
    "            "
   ]
  },
  {
   "cell_type": "code",
   "execution_count": 157,
   "id": "b6788b50",
   "metadata": {},
   "outputs": [
    {
     "name": "stdout",
     "output_type": "stream",
     "text": [
      "['a', 'b', 'c']\n"
     ]
    }
   ],
   "source": [
    "\"\"\"\n",
    "10:53 - \n",
    "17. Letter Combinations of a Phone Number\n",
    "\n",
    "mymap = {\n",
    "2: \"a\", \"b\", \"c\"\n",
    "3: \"d\", \"e\", \"f\"\n",
    "}\n",
    "\"\"\"\n",
    "\n",
    "def letterCombinations(digits):\n",
    "    mymap = {\n",
    "        \"2\": \"abc\",\n",
    "        \"3\": \"def\",\n",
    "        \"4\": \"ghi\",\n",
    "        \"5\": \"jkl\",\n",
    "        \"6\": \"mno\",\n",
    "        \"7\": \"pqrs\",\n",
    "        \"8\": \"tuv\",\n",
    "        \"9\": \"wxyz\"\n",
    "    }\n",
    "    \n",
    "    def backtrack(i, local_res):\n",
    "        if i==len(digits):\n",
    "            ans.append(local_res)\n",
    "            return\n",
    "        \n",
    "        for c in mymap[digits[i]]: # \n",
    "            backtrack(i+1, local_res+c)\n",
    "            \n",
    "    ans = []\n",
    "    backtrack(0, \"\")\n",
    "    return ans\n",
    "\n",
    "print(letterCombinations(\"2\"))"
   ]
  },
  {
   "cell_type": "code",
   "execution_count": 181,
   "id": "738ec335",
   "metadata": {},
   "outputs": [
    {
     "name": "stdout",
     "output_type": "stream",
     "text": [
      "[[2, 2, 2, 2]]\n"
     ]
    }
   ],
   "source": [
    "\"\"\"\n",
    "18. 4Sum\n",
    "\n",
    "[1,0,-1,0,-2,2], target = 0\n",
    " ^\n",
    "\n",
    "\"\"\"\n",
    "\n",
    "def fourSum(nums, target):\n",
    "    nums.sort()\n",
    "    n = len(nums)\n",
    "    ans = []\n",
    "    for i in range(n-3):\n",
    "        if i>0 and nums[i]==nums[i-1]:\n",
    "            continue\n",
    "        a = nums[i]\n",
    "        for j in range(i+1, n-2):\n",
    "            if j>i+1 and nums[j]==nums[j-1]:\n",
    "                continue\n",
    "            b = nums[j]\n",
    "            left, right = j+1, n-1\n",
    "\n",
    "            while left<right:\n",
    "                c, d = nums[left], nums[right]\n",
    "                cur_sum = a+b+c+d\n",
    "                if cur_sum == target:\n",
    "                    ans.append([a,b,c,d])\n",
    "                    left += 1\n",
    "                    right -= 1\n",
    "                    \n",
    "                    while left<right and nums[left] == nums[left-1]:\n",
    "                        left += 1\n",
    "                    while left<right and nums[right] == nums[right+1]:\n",
    "                        right -= 1\n",
    "                    \n",
    "                elif cur_sum > target:\n",
    "                    right -= 1\n",
    "                else:\n",
    "                    left += 1\n",
    "    return ans\n",
    "\n",
    "print(fourSum([2,2,2,2,2,2,2,2,2,2], 8))\n"
   ]
  },
  {
   "cell_type": "code",
   "execution_count": 207,
   "id": "df3153b8",
   "metadata": {},
   "outputs": [
    {
     "name": "stdout",
     "output_type": "stream",
     "text": [
      "1\n",
      "3\n",
      "4\n",
      "5\n"
     ]
    }
   ],
   "source": [
    "\"\"\"\n",
    "11:10\n",
    "19. Remove Nth Node From End of List\n",
    "\n",
    "\"\"\"\n",
    "class ListNode:\n",
    "    def __init__(self, val):\n",
    "        self.val = val\n",
    "        self.next = None\n",
    "        \n",
    "def removeNthNode(head, n):\n",
    "    dummy = ListNode(0)\n",
    "    dummy.next = head\n",
    "    slow, fast = dummy, dummy\n",
    "\n",
    "    for _ in range(n+1):\n",
    "        fast = fast.next\n",
    "\n",
    "    while fast:\n",
    "        slow = slow.next\n",
    "        fast = fast.next\n",
    "\n",
    "    slow.next = slow.next.next\n",
    "    return dummy.next\n",
    "\n",
    "head = ListNode(1)\n",
    "head.next = ListNode(2)\n",
    "head.next.next = ListNode(3)\n",
    "head.next.next.next = ListNode(4)\n",
    "head.next.next.next.next = ListNode(5)\n",
    "\n",
    "dummy = removeNthNode(head, 4)\n",
    "\n",
    "while dummy:\n",
    "    print(dummy.val)\n",
    "    dummy = dummy.next\n",
    "    "
   ]
  },
  {
   "cell_type": "code",
   "execution_count": 214,
   "id": "6dcd0b17",
   "metadata": {},
   "outputs": [
    {
     "name": "stdout",
     "output_type": "stream",
     "text": [
      "False\n"
     ]
    }
   ],
   "source": [
    "\"\"\"\n",
    "12:50-\n",
    "20. Valid Parentheses\n",
    "({[]})\n",
    "   ^\n",
    "stack = [[, {, (]\n",
    "\n",
    "({()({})})\n",
    "\"\"\"\n",
    "\n",
    "def validParenthesis(s):\n",
    "    stack = []\n",
    "    mymap = {\n",
    "        \")\":\"(\",\n",
    "        \"}\":\"{\",\n",
    "        \"]\":\"[\",\n",
    "    }\n",
    "    for c in s:\n",
    "        if c in \"({[\":\n",
    "            stack.append(c)\n",
    "        else:\n",
    "            if stack:\n",
    "                if stack[-1] != mymap[c]:\n",
    "                    return False\n",
    "                else:\n",
    "                    stack.pop()\n",
    "            else:\n",
    "                return False\n",
    "    return not stack\n",
    "\n",
    "print(validParenthesis(\"()[]{((((())))}\"))\n",
    "                "
   ]
  },
  {
   "cell_type": "code",
   "execution_count": 228,
   "id": "f1823cd2",
   "metadata": {},
   "outputs": [
    {
     "name": "stdout",
     "output_type": "stream",
     "text": [
      "0 0 \n",
      "['']\n"
     ]
    }
   ],
   "source": [
    "\"\"\"\n",
    "22. Generate Parentheses\n",
    "\n",
    "left and right pointers\n",
    "n = 3\n",
    "left = 3\n",
    "right = 3\n",
    "\n",
    "\n",
    "\n",
    "\"\"\"\n",
    "def generateParentheses(n):\n",
    "    def backtrack(left, right, local_res):\n",
    "        print(left, right, local_res)\n",
    "        if left==0 and right==0:\n",
    "            ans.append(local_res)\n",
    "            return\n",
    "        if left<0 or right<0:\n",
    "            return \n",
    "        \n",
    "        backtrack(left-1, right, local_res+\"(\")\n",
    "        if right>left:\n",
    "            backtrack(left, right-1, local_res+\")\")\n",
    "    \n",
    "    ans = []\n",
    "    backtrack(n, n, \"\")\n",
    "    return ans\n",
    "\n",
    "print(generateParentheses(0))\n",
    "    "
   ]
  },
  {
   "cell_type": "code",
   "execution_count": null,
   "id": "220c2d63",
   "metadata": {},
   "outputs": [],
   "source": [
    "\"\"\"\n",
    "24. Swap Nodes in Pairs\n",
    "\n",
    "\"\"\""
   ]
  }
 ],
 "metadata": {
  "kernelspec": {
   "display_name": "Python 3 (ipykernel)",
   "language": "python",
   "name": "python3"
  },
  "language_info": {
   "codemirror_mode": {
    "name": "ipython",
    "version": 3
   },
   "file_extension": ".py",
   "mimetype": "text/x-python",
   "name": "python",
   "nbconvert_exporter": "python",
   "pygments_lexer": "ipython3",
   "version": "3.11.5"
  }
 },
 "nbformat": 4,
 "nbformat_minor": 5
}

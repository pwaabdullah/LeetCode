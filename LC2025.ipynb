{
 "cells": [
  {
   "cell_type": "code",
   "execution_count": 16,
   "id": "28b89916",
   "metadata": {},
   "outputs": [
    {
     "name": "stdout",
     "output_type": "stream",
     "text": [
      "8\n",
      "9\n",
      "0\n",
      "1\n"
     ]
    }
   ],
   "source": [
    "\"\"\"\n",
    "2. Add two numbers (LinkedList)\n",
    "\n",
    "\n",
    "2,4,3\n",
    "5,6,4\n",
    "-----\n",
    "7 0 8\n",
    "7 0 1 1\n",
    "0 2 2\n",
    "\n",
    "sum = 10\n",
    "sum = 0 10//10\n",
    "carry = \n",
    "\"\"\"\n",
    "\n",
    "class ListNode:\n",
    "    def __init__(self, val):\n",
    "        self.val = val\n",
    "        self.next = None\n",
    "\n",
    "\n",
    "def addTwoNums(h1, h2):\n",
    "    carry, sum = 0, 0\n",
    "    dummy = newHead = ListNode(None)\n",
    "    while h1 or h2 or carry:\n",
    "        sum = carry\n",
    "        sum += h1.val if h1 else 0\n",
    "        sum += h2.val if h2 else 0\n",
    "        \n",
    "        newHead.next = ListNode(sum%10)\n",
    "        carry = sum//10\n",
    "        newHead = newHead.next\n",
    "        h1 = h1.next if h1 else None\n",
    "        h2 = h2.next if h2 else None\n",
    "        \n",
    "    return dummy.next\n",
    "    \n",
    "\n",
    "h1 = ListNode(9)\n",
    "h1.next = ListNode(9)\n",
    "h1.next.next = ListNode(9)\n",
    "\n",
    "h2 = ListNode(9)\n",
    "h2.next = ListNode(9)\n",
    "# h2.next.next = ListNode(4)\n",
    "\n",
    "head = addTwoNums(h1, h2)\n",
    "while head:\n",
    "    print(head.val)\n",
    "    head = head.next\n",
    "        "
   ]
  },
  {
   "cell_type": "code",
   "execution_count": 22,
   "id": "b8ac4ebf",
   "metadata": {},
   "outputs": [
    {
     "name": "stdout",
     "output_type": "stream",
     "text": [
      "3\n"
     ]
    }
   ],
   "source": [
    "\"\"\"\n",
    "8:05-8:35\n",
    "3. Longest Substring Without Repeating Characters\n",
    "Given a string s, find the length of the longest \n",
    "substring without repeating characters.\n",
    "\n",
    "Example 1:\n",
    "\n",
    "\"abcabcbb\" \n",
    "        ^\n",
    "        ^\n",
    " \n",
    "using sliding window\n",
    "window expand: until I see a letter that is already exists in the window\n",
    "window shrink: once duplicate found\n",
    "\"\"\"\n",
    "\n",
    "def longestSubString(s):\n",
    "    winStart = 0\n",
    "    maxLen = 0\n",
    "    mymap = {}\n",
    "    for winEnd in range(len(s)):\n",
    "        if s[winEnd] not in mymap:\n",
    "            mymap[s[winEnd]] = 0\n",
    "        mymap[s[winEnd]] += 1\n",
    "            \n",
    "        while mymap[s[winEnd]]>1:\n",
    "            mymap[s[winStart]] -= 1\n",
    "            winStart += 1\n",
    "            \n",
    "        maxLen = max(maxLen, winEnd-winStart+1)\n",
    "    \n",
    "    return maxLen\n",
    "\n",
    "print(longestSubString(\"pwwkew\"))        \n",
    "            \n",
    "        "
   ]
  },
  {
   "cell_type": "code",
   "execution_count": null,
   "id": "650c5802",
   "metadata": {},
   "outputs": [],
   "source": [
    "\"\"\"\n",
    "4. Median of Two Sorted Arrays\n",
    "\n",
    "\"\"\""
   ]
  },
  {
   "cell_type": "code",
   "execution_count": 24,
   "id": "acae4278",
   "metadata": {},
   "outputs": [
    {
     "name": "stdout",
     "output_type": "stream",
     "text": [
      "False\n"
     ]
    }
   ],
   "source": [
    "\"\"\"\n",
    "8:35 - 9:07 no solution\n",
    "5. Longest Palindromic Substring\n",
    "\n",
    "def isPal(s):\n",
    "    return s == s[::-1]\n",
    "\n",
    "\"babad\"\n",
    "  ^\n",
    " \n",
    "maxLen = 0\n",
    "\"\"\"\n",
    "\n",
    "def isPal(s):\n",
    "    return s == s[::-1]\n",
    "\n",
    "def longestPalString(s):\n",
    "    def dp(s):\n",
    "        if not s:\n",
    "            return \n",
    "        \n",
    "        \n",
    "\n",
    "print(isPal(\"babb\"))"
   ]
  },
  {
   "cell_type": "code",
   "execution_count": 92,
   "id": "4d8e6e6d",
   "metadata": {},
   "outputs": [
    {
     "name": "stdout",
     "output_type": "stream",
     "text": [
      "['p', '', 'a', '', 'h', '', 'n', '', '', '', '', '', '', '']\n",
      "['a', 'p', 'l', 's', 'i', 'i', 'g', '', '', '', '', '', '', '']\n",
      "['y', '', 'i', '', 'r', '', '', '', '', '', '', '', '', '']\n",
      "pahnaplsiigyir\n"
     ]
    }
   ],
   "source": [
    "\"\"\"\n",
    "1.5hr\n",
    "6. Zigzag Conversion\n",
    "[\n",
    "['p', '', 'a', 'l', '', 'i', 'r', '', '', '', '', '', '', ''], \n",
    "['a', 'p', '', 'i', 'h', '', 'i', 'g', '', '', '', '', '', ''], \n",
    "['y', '', '', 's', '', '', 'n', '', '', '', '', '', '', '']]\n",
    "\n",
    "\"\"\"\n",
    "\n",
    "def zigzagConversion(s, numRows):\n",
    "    if numRows == 1 or numRows>len(s):\n",
    "        return s\n",
    "    numCols = len(s)\n",
    "    mymap = [[\"\"]*numCols for _ in range(numRows)]\n",
    "    col, row = 0, 0\n",
    "    i = 0\n",
    "    while i<len(s):\n",
    "        if col>0: \n",
    "            col-=1\n",
    "            i-=1\n",
    "        while i<len(s) and row<numRows: #0,1,2,3\n",
    "            mymap[row][col] = s[i]\n",
    "            row += 1\n",
    "            i += 1\n",
    "        col += 1\n",
    "        row -= 1\n",
    "        \n",
    "        while i<len(s) and row>0: \n",
    "            row -= 1\n",
    "            mymap[row][col] = s[i]\n",
    "            col += 1\n",
    "            i += 1\n",
    "    \n",
    "    result = []\n",
    "    for row in range(numRows):\n",
    "        print(mymap[row])\n",
    "        result.append(\"\".join(mymap[row]))\n",
    "    return \"\".join(result)\n",
    "\n",
    "\n",
    "print(zigzagConversion(\"paypalishiring\", 3))\n"
   ]
  },
  {
   "cell_type": "code",
   "execution_count": 107,
   "id": "0a892fa5",
   "metadata": {},
   "outputs": [
    {
     "name": "stdout",
     "output_type": "stream",
     "text": [
      "49\n"
     ]
    }
   ],
   "source": [
    "\"\"\"\n",
    "9:00 - \n",
    "11. Container With Most Water\n",
    "\n",
    " 0 1 2 3 4 5 6 7 8 \n",
    "[1,8,6,2,5,4,8,3,7]\n",
    "   ^\n",
    "                 ^\n",
    "                 8-1 = 7*7\n",
    "\"\"\"\n",
    "def containerWithMostWater(height):\n",
    "    left, right = 0,len(height)-1\n",
    "    max_water = 0\n",
    "    \n",
    "    while left<right:\n",
    "        max_water = max(max_water, min(height[left], height[right])*(right-left))\n",
    "        if height[left] < height[right]:\n",
    "            left += 1\n",
    "        else:\n",
    "            right -= 1\n",
    "        \n",
    "    return max_water\n",
    "\n",
    "print(containerWithMostWater([1,8,6,2,5,4,8,3,7]))\n",
    "        "
   ]
  },
  {
   "cell_type": "code",
   "execution_count": null,
   "id": "c265c7b3",
   "metadata": {},
   "outputs": [],
   "source": []
  }
 ],
 "metadata": {
  "kernelspec": {
   "display_name": "Python 3 (ipykernel)",
   "language": "python",
   "name": "python3"
  },
  "language_info": {
   "codemirror_mode": {
    "name": "ipython",
    "version": 3
   },
   "file_extension": ".py",
   "mimetype": "text/x-python",
   "name": "python",
   "nbconvert_exporter": "python",
   "pygments_lexer": "ipython3",
   "version": "3.11.5"
  }
 },
 "nbformat": 4,
 "nbformat_minor": 5
}

{
 "cells": [
  {
   "cell_type": "code",
   "execution_count": 6,
   "id": "443f1777",
   "metadata": {},
   "outputs": [],
   "source": [
    "from collections import Counter\n",
    "def contains_duplicate(nums):\n",
    "#     mymap = Counter(nums)\n",
    "#     return len(mymap)!=len(nums)\n",
    "\n",
    "    # approach 3\n",
    "    nums.sort()\n",
    "    for i in range(1, len(nums)):\n",
    "        if nums[i] == nums[i-1]:\n",
    "            return True\n",
    "    return False"
   ]
  },
  {
   "cell_type": "code",
   "execution_count": null,
   "id": "ec16c471",
   "metadata": {},
   "outputs": [],
   "source": []
  },
  {
   "cell_type": "code",
   "execution_count": 8,
   "id": "a5222f4e",
   "metadata": {},
   "outputs": [
    {
     "name": "stdout",
     "output_type": "stream",
     "text": [
      "False\n"
     ]
    }
   ],
   "source": [
    "print(contains_duplicate([6,7,8,3,4,5]))"
   ]
  },
  {
   "cell_type": "code",
   "execution_count": 9,
   "id": "3ddc4376",
   "metadata": {},
   "outputs": [],
   "source": [
    "from collections import Counter\n",
    "def valid_anagram(s, t):\n",
    "    mymap_s = Counter(s)\n",
    "    mymap_t = Counter(t)\n",
    "\n",
    "    return mymap_s == mymap_t\n"
   ]
  },
  {
   "cell_type": "code",
   "execution_count": 11,
   "id": "785bef01",
   "metadata": {},
   "outputs": [
    {
     "name": "stdout",
     "output_type": "stream",
     "text": [
      "False\n"
     ]
    }
   ],
   "source": [
    "print(valid_anagram(\"badboys\", \"boydab\"))"
   ]
  },
  {
   "cell_type": "code",
   "execution_count": 20,
   "id": "af457dcf",
   "metadata": {},
   "outputs": [],
   "source": [
    "def two_sum(nums, target):\n",
    "#     mymap = {}\n",
    "#     for i, num in enumerate(nums):\n",
    "#         if num not in mymap:\n",
    "#             mymap[num] = i\n",
    "\n",
    "#     for i, num in enumerate(nums):\n",
    "#         if target-num in mymap:\n",
    "#             return [i, mymap[target-num]]\n",
    "\n",
    "#     approach 2\n",
    "    nums.sort()\n",
    "    left = 0\n",
    "    right = len(nums)-1\n",
    "\n",
    "    while left<right:\n",
    "        sum = nums[left] + nums[right]\n",
    "        if sum == target:\n",
    "            return [left, right]\n",
    "        elif sum > target: \n",
    "            right -= 1\n",
    "        else:\n",
    "            left += 1"
   ]
  },
  {
   "cell_type": "code",
   "execution_count": 21,
   "id": "bb817bfb",
   "metadata": {},
   "outputs": [
    {
     "name": "stdout",
     "output_type": "stream",
     "text": [
      "[1, 4]\n"
     ]
    }
   ],
   "source": [
    "print(two_sum([10,3,8,6,0], 13))"
   ]
  },
  {
   "cell_type": "code",
   "execution_count": 46,
   "id": "7ebc963b",
   "metadata": {},
   "outputs": [],
   "source": [
    "def isPal(s):\n",
    "#     return s == s[::-1]\n",
    "    s = s.lower()\n",
    "    \n",
    "    left, right = 0, len(s)-1\n",
    "    \n",
    "    while left<right:\n",
    "        if s[left].isalnum() and s[right].isalnum():\n",
    "            if s[left] == s[right]:\n",
    "                left += 1\n",
    "                right -= 1\n",
    "            else:\n",
    "                return False\n",
    "        else:\n",
    "            if not s[left].isalnum():\n",
    "                left += 1\n",
    "            if not s[right].isalnum():\n",
    "                right -= 1\n",
    "    return True"
   ]
  },
  {
   "cell_type": "code",
   "execution_count": 47,
   "id": "e4f1264e",
   "metadata": {},
   "outputs": [
    {
     "name": "stdout",
     "output_type": "stream",
     "text": [
      "False\n"
     ]
    }
   ],
   "source": [
    "print(isPal(\"0P\"))"
   ]
  },
  {
   "cell_type": "code",
   "execution_count": 51,
   "id": "fba08ee9",
   "metadata": {},
   "outputs": [],
   "source": [
    "def maxProfit(prices):\n",
    "    max_profit = 0\n",
    "    buy_price = float('inf')\n",
    "    \n",
    "    for price in prices:\n",
    "        buy_price = min(buy_price, price)\n",
    "        max_profit = max(max_profit, price-buy_price)\n",
    "    return max_profit"
   ]
  },
  {
   "cell_type": "code",
   "execution_count": 53,
   "id": "b83a7fb8",
   "metadata": {},
   "outputs": [
    {
     "name": "stdout",
     "output_type": "stream",
     "text": [
      "4\n"
     ]
    }
   ],
   "source": [
    "print(maxProfit([10,5]))"
   ]
  },
  {
   "cell_type": "code",
   "execution_count": 56,
   "id": "77791d4f",
   "metadata": {},
   "outputs": [],
   "source": [
    "def validParentheses(s):\n",
    "    stack = []\n",
    "    mymap = {\n",
    "        \"]\":\"[\",\n",
    "        \"}\":\"{\",\n",
    "        \")\":\"(\"\n",
    "    }\n",
    "    \n",
    "    for c in s:\n",
    "        if c in \"[{(\":\n",
    "            stack.append(c)\n",
    "        else:\n",
    "            if stack and stack[-1] == mymap[c]:\n",
    "                stack.pop()\n",
    "            else:\n",
    "                return False\n",
    "    return not stack"
   ]
  },
  {
   "cell_type": "code",
   "execution_count": 60,
   "id": "4ee69bb5",
   "metadata": {},
   "outputs": [
    {
     "name": "stdout",
     "output_type": "stream",
     "text": [
      "True\n"
     ]
    }
   ],
   "source": [
    "print(validParentheses(\"{[()]}\"))"
   ]
  },
  {
   "cell_type": "code",
   "execution_count": 62,
   "id": "6744911b",
   "metadata": {},
   "outputs": [],
   "source": [
    "def binarySearch(nums, target):\n",
    "    lo, hi = 0, len(nums)-1\n",
    "    \n",
    "    while lo<=hi:\n",
    "        mid = (lo+hi)//2\n",
    "        if nums[mid] == target:\n",
    "            return mid\n",
    "        elif nums[mid] < target:\n",
    "            lo = mid + 1\n",
    "        else:\n",
    "            hi = mid - 1\n",
    "    return -1"
   ]
  },
  {
   "cell_type": "code",
   "execution_count": 66,
   "id": "a79192b4",
   "metadata": {},
   "outputs": [
    {
     "name": "stdout",
     "output_type": "stream",
     "text": [
      "False\n"
     ]
    }
   ],
   "source": [
    "print(binarySearch([1,4,5,8,9], 11))"
   ]
  },
  {
   "cell_type": "code",
   "execution_count": null,
   "id": "86c2f4bd",
   "metadata": {},
   "outputs": [],
   "source": [
    "class ListNode:\n",
    "    def __init__(self, val, next=None):\n",
    "        self.val = val\n",
    "        self.next = next"
   ]
  },
  {
   "cell_type": "code",
   "execution_count": 80,
   "id": "8b21c542",
   "metadata": {},
   "outputs": [],
   "source": [
    "def reverseList(head):\n",
    "    temp, prev = None, None\n",
    "    while head:\n",
    "        temp = head.next\n",
    "        head.next = prev\n",
    "        prev = head\n",
    "        head = temp\n",
    "    return prev"
   ]
  },
  {
   "cell_type": "code",
   "execution_count": 81,
   "id": "b2752edb",
   "metadata": {},
   "outputs": [
    {
     "name": "stdout",
     "output_type": "stream",
     "text": [
      "3\n",
      "2\n",
      "1\n"
     ]
    }
   ],
   "source": [
    "head = ListNode(1)\n",
    "head.next = ListNode(2)\n",
    "head.next.next = ListNode(3)\n",
    "\n",
    "dummy = reverseList(head)\n",
    "\n",
    "while dummy:\n",
    "    print(dummy.val)\n",
    "    dummy = dummy.next"
   ]
  },
  {
   "cell_type": "code",
   "execution_count": 83,
   "id": "ec23668a",
   "metadata": {},
   "outputs": [],
   "source": [
    "def mergeTwoLists(l1, l2):\n",
    "    head = dummy = ListNode(None)\n",
    "    \n",
    "    while l1 and l2:\n",
    "        if l1.val < l2.val:\n",
    "            val = l1.val\n",
    "            l1 = l1.next\n",
    "        else:\n",
    "            val = l2.val\n",
    "            l2 = l2.next\n",
    "        head.next = ListNode(val)\n",
    "        head = head.next\n",
    "        \n",
    "    while l1:\n",
    "        head.next = ListNode(l1.val)\n",
    "        l1 = l1.next\n",
    "        head = head.next\n",
    "    while l2:\n",
    "        head.next = ListNode(l2.val)\n",
    "        l2 = l2.next\n",
    "        head = head.next\n",
    "    return dummy.next\n",
    "            "
   ]
  },
  {
   "cell_type": "code",
   "execution_count": 86,
   "id": "04e80392",
   "metadata": {},
   "outputs": [
    {
     "name": "stdout",
     "output_type": "stream",
     "text": [
      "4\n",
      "5\n",
      "6\n",
      "100\n",
      "400\n",
      "1000\n"
     ]
    }
   ],
   "source": [
    "l1 = ListNode(100)\n",
    "l1.next = ListNode(400)\n",
    "l1.next.next = ListNode(1000)\n",
    "\n",
    "l2 = ListNode(4)\n",
    "l2.next = ListNode(5)\n",
    "l2.next.next = ListNode(6)\n",
    "\n",
    "dummy_head = mergeTwoLists(l1, l2)\n",
    "\n",
    "while dummy_head:\n",
    "    print(dummy_head.val)\n",
    "    dummy_head = dummy_head.next"
   ]
  },
  {
   "cell_type": "code",
   "execution_count": null,
   "id": "af7372d4",
   "metadata": {},
   "outputs": [],
   "source": [
    "def cycleList(head):\n",
    "    slow, fast = head, head\n",
    "    while slow and fast:\n",
    "        slow = slow.next\n",
    "        fast = fast.next.next\n",
    "        if slow == fast:\n",
    "            return True\n",
    "    \n",
    "    return False\n",
    "    \n"
   ]
  },
  {
   "cell_type": "code",
   "execution_count": null,
   "id": "918d4a69",
   "metadata": {},
   "outputs": [],
   "source": [
    "head = ListNode(1)\n",
    "head.next = ListNode(2)\n",
    "head.next.next = ListNode(3)\n",
    "head.next.next.next = ListNode(4)\n",
    "head.next.next.next.next = ListNode(5)\n",
    "head.next.next.next.next.next = head.next\n",
    "\n",
    "dummy = cycleList(head)\n",
    "\n",
    "while dummy:\n",
    "    print(dummy.val)\n",
    "    dummy = dummy.next"
   ]
  },
  {
   "cell_type": "code",
   "execution_count": null,
   "id": "627fd4d9",
   "metadata": {},
   "outputs": [],
   "source": []
  }
 ],
 "metadata": {
  "kernelspec": {
   "display_name": "Python 3 (ipykernel)",
   "language": "python",
   "name": "python3"
  },
  "language_info": {
   "codemirror_mode": {
    "name": "ipython",
    "version": 3
   },
   "file_extension": ".py",
   "mimetype": "text/x-python",
   "name": "python",
   "nbconvert_exporter": "python",
   "pygments_lexer": "ipython3",
   "version": "3.11.5"
  }
 },
 "nbformat": 4,
 "nbformat_minor": 5
}
